{
 "cells": [
  {
   "attachments": {},
   "cell_type": "markdown",
   "metadata": {},
   "source": [
    "#### Dwi Pujining Tyas - PYTN-KS12-004\n",
    "Python for Data Science"
   ]
  },
  {
   "attachments": {},
   "cell_type": "markdown",
   "metadata": {},
   "source": [
    "# VISUALIZATION DATA \n",
    "Publication-Grad Plot [Assignment Python 1]"
   ]
  },
  {
   "attachments": {},
   "cell_type": "markdown",
   "metadata": {},
   "source": [
    "## Prepping Data"
   ]
  },
  {
   "cell_type": "code",
   "execution_count": 339,
   "metadata": {},
   "outputs": [],
   "source": [
    "import pandas as pd\n",
    "import numpy as np\n",
    "\n",
    "%matplotlib inline\n",
    "\n",
    "import matplotlib as mpl\n",
    "import matplotlib.pyplot as plt\n",
    "from wordcloud import WordCloud"
   ]
  },
  {
   "cell_type": "code",
   "execution_count": 3,
   "metadata": {},
   "outputs": [],
   "source": [
    "df = pd.read_csv('dataset/london_crime_by_lsoa.csv')"
   ]
  },
  {
   "cell_type": "code",
   "execution_count": 4,
   "metadata": {},
   "outputs": [
    {
     "data": {
      "text/html": [
       "<div>\n",
       "<style scoped>\n",
       "    .dataframe tbody tr th:only-of-type {\n",
       "        vertical-align: middle;\n",
       "    }\n",
       "\n",
       "    .dataframe tbody tr th {\n",
       "        vertical-align: top;\n",
       "    }\n",
       "\n",
       "    .dataframe thead th {\n",
       "        text-align: right;\n",
       "    }\n",
       "</style>\n",
       "<table border=\"1\" class=\"dataframe\">\n",
       "  <thead>\n",
       "    <tr style=\"text-align: right;\">\n",
       "      <th></th>\n",
       "      <th>lsoa_code</th>\n",
       "      <th>borough</th>\n",
       "      <th>major_category</th>\n",
       "      <th>minor_category</th>\n",
       "      <th>value</th>\n",
       "      <th>year</th>\n",
       "      <th>month</th>\n",
       "    </tr>\n",
       "  </thead>\n",
       "  <tbody>\n",
       "    <tr>\n",
       "      <th>0</th>\n",
       "      <td>E01001116</td>\n",
       "      <td>Croydon</td>\n",
       "      <td>Burglary</td>\n",
       "      <td>Burglary in Other Buildings</td>\n",
       "      <td>0.0</td>\n",
       "      <td>2016.0</td>\n",
       "      <td>11.0</td>\n",
       "    </tr>\n",
       "    <tr>\n",
       "      <th>1</th>\n",
       "      <td>E01001646</td>\n",
       "      <td>Greenwich</td>\n",
       "      <td>Violence Against the Person</td>\n",
       "      <td>Other violence</td>\n",
       "      <td>0.0</td>\n",
       "      <td>2016.0</td>\n",
       "      <td>11.0</td>\n",
       "    </tr>\n",
       "    <tr>\n",
       "      <th>2</th>\n",
       "      <td>E01000677</td>\n",
       "      <td>Bromley</td>\n",
       "      <td>Violence Against the Person</td>\n",
       "      <td>Other violence</td>\n",
       "      <td>0.0</td>\n",
       "      <td>2015.0</td>\n",
       "      <td>5.0</td>\n",
       "    </tr>\n",
       "    <tr>\n",
       "      <th>3</th>\n",
       "      <td>E01003774</td>\n",
       "      <td>Redbridge</td>\n",
       "      <td>Burglary</td>\n",
       "      <td>Burglary in Other Buildings</td>\n",
       "      <td>0.0</td>\n",
       "      <td>2016.0</td>\n",
       "      <td>3.0</td>\n",
       "    </tr>\n",
       "    <tr>\n",
       "      <th>4</th>\n",
       "      <td>E01004563</td>\n",
       "      <td>Wandsworth</td>\n",
       "      <td>Robbery</td>\n",
       "      <td>Personal Property</td>\n",
       "      <td>0.0</td>\n",
       "      <td>2008.0</td>\n",
       "      <td>6.0</td>\n",
       "    </tr>\n",
       "  </tbody>\n",
       "</table>\n",
       "</div>"
      ],
      "text/plain": [
       "   lsoa_code     borough               major_category  \\\n",
       "0  E01001116     Croydon                     Burglary   \n",
       "1  E01001646   Greenwich  Violence Against the Person   \n",
       "2  E01000677     Bromley  Violence Against the Person   \n",
       "3  E01003774   Redbridge                     Burglary   \n",
       "4  E01004563  Wandsworth                      Robbery   \n",
       "\n",
       "                minor_category  value    year  month  \n",
       "0  Burglary in Other Buildings    0.0  2016.0   11.0  \n",
       "1               Other violence    0.0  2016.0   11.0  \n",
       "2               Other violence    0.0  2015.0    5.0  \n",
       "3  Burglary in Other Buildings    0.0  2016.0    3.0  \n",
       "4            Personal Property    0.0  2008.0    6.0  "
      ]
     },
     "execution_count": 4,
     "metadata": {},
     "output_type": "execute_result"
    }
   ],
   "source": [
    "df.head()"
   ]
  },
  {
   "cell_type": "code",
   "execution_count": 5,
   "metadata": {},
   "outputs": [
    {
     "data": {
      "text/plain": [
       "(2203730, 7)"
      ]
     },
     "execution_count": 5,
     "metadata": {},
     "output_type": "execute_result"
    }
   ],
   "source": [
    "df.shape"
   ]
  },
  {
   "attachments": {},
   "cell_type": "markdown",
   "metadata": {},
   "source": [
    "Merename nama kolom agar lebih mudah dalam penggunaan ketika sedang mengolah data"
   ]
  },
  {
   "cell_type": "code",
   "execution_count": 6,
   "metadata": {},
   "outputs": [],
   "source": [
    "df_baru = pd.read_csv('dataset/london_crime_by_lsoa.csv')"
   ]
  },
  {
   "cell_type": "code",
   "execution_count": 7,
   "metadata": {},
   "outputs": [],
   "source": [
    "#mengganti nama kolom\n",
    "df_baru.rename(columns = {'borough' : 'wilayah', 'major_category' : 'level_tinggi', 'minor_category' : 'level_rendah', 'value' : 'jumlah_kejahatan', 'year' : 'tahun', 'month' : 'bulan'}, inplace = True)"
   ]
  },
  {
   "attachments": {},
   "cell_type": "markdown",
   "metadata": {},
   "source": [
    "Mengecek apakah ada null pada data yang kita punya dan ketika ada maka clean data tersebut."
   ]
  },
  {
   "cell_type": "code",
   "execution_count": 8,
   "metadata": {},
   "outputs": [
    {
     "data": {
      "text/plain": [
       "lsoa_code           0\n",
       "wilayah             0\n",
       "level_tinggi        0\n",
       "level_rendah        0\n",
       "jumlah_kejahatan    1\n",
       "tahun               1\n",
       "bulan               1\n",
       "dtype: int64"
      ]
     },
     "execution_count": 8,
     "metadata": {},
     "output_type": "execute_result"
    }
   ],
   "source": [
    "df_baru.isnull().sum()"
   ]
  },
  {
   "cell_type": "code",
   "execution_count": 9,
   "metadata": {},
   "outputs": [],
   "source": [
    "df_baru = df_baru.dropna()"
   ]
  },
  {
   "cell_type": "code",
   "execution_count": 10,
   "metadata": {},
   "outputs": [
    {
     "data": {
      "text/plain": [
       "lsoa_code           0\n",
       "wilayah             0\n",
       "level_tinggi        0\n",
       "level_rendah        0\n",
       "jumlah_kejahatan    0\n",
       "tahun               0\n",
       "bulan               0\n",
       "dtype: int64"
      ]
     },
     "execution_count": 10,
     "metadata": {},
     "output_type": "execute_result"
    }
   ],
   "source": [
    "df_baru.isnull().sum()"
   ]
  },
  {
   "cell_type": "code",
   "execution_count": 11,
   "metadata": {},
   "outputs": [],
   "source": [
    "df_baru.jumlah_kejahatan = df_baru.jumlah_kejahatan.astype(int)\n",
    "df_baru.tahun = df_baru.tahun.astype(int)\n",
    "df_baru.bulan = df_baru.bulan.astype(int)"
   ]
  },
  {
   "cell_type": "code",
   "execution_count": 12,
   "metadata": {},
   "outputs": [
    {
     "data": {
      "text/html": [
       "<div>\n",
       "<style scoped>\n",
       "    .dataframe tbody tr th:only-of-type {\n",
       "        vertical-align: middle;\n",
       "    }\n",
       "\n",
       "    .dataframe tbody tr th {\n",
       "        vertical-align: top;\n",
       "    }\n",
       "\n",
       "    .dataframe thead th {\n",
       "        text-align: right;\n",
       "    }\n",
       "</style>\n",
       "<table border=\"1\" class=\"dataframe\">\n",
       "  <thead>\n",
       "    <tr style=\"text-align: right;\">\n",
       "      <th></th>\n",
       "      <th>lsoa_code</th>\n",
       "      <th>wilayah</th>\n",
       "      <th>level_tinggi</th>\n",
       "      <th>level_rendah</th>\n",
       "      <th>jumlah_kejahatan</th>\n",
       "      <th>tahun</th>\n",
       "      <th>bulan</th>\n",
       "    </tr>\n",
       "  </thead>\n",
       "  <tbody>\n",
       "    <tr>\n",
       "      <th>0</th>\n",
       "      <td>E01001116</td>\n",
       "      <td>Croydon</td>\n",
       "      <td>Burglary</td>\n",
       "      <td>Burglary in Other Buildings</td>\n",
       "      <td>0</td>\n",
       "      <td>2016</td>\n",
       "      <td>11</td>\n",
       "    </tr>\n",
       "    <tr>\n",
       "      <th>1</th>\n",
       "      <td>E01001646</td>\n",
       "      <td>Greenwich</td>\n",
       "      <td>Violence Against the Person</td>\n",
       "      <td>Other violence</td>\n",
       "      <td>0</td>\n",
       "      <td>2016</td>\n",
       "      <td>11</td>\n",
       "    </tr>\n",
       "    <tr>\n",
       "      <th>2</th>\n",
       "      <td>E01000677</td>\n",
       "      <td>Bromley</td>\n",
       "      <td>Violence Against the Person</td>\n",
       "      <td>Other violence</td>\n",
       "      <td>0</td>\n",
       "      <td>2015</td>\n",
       "      <td>5</td>\n",
       "    </tr>\n",
       "    <tr>\n",
       "      <th>3</th>\n",
       "      <td>E01003774</td>\n",
       "      <td>Redbridge</td>\n",
       "      <td>Burglary</td>\n",
       "      <td>Burglary in Other Buildings</td>\n",
       "      <td>0</td>\n",
       "      <td>2016</td>\n",
       "      <td>3</td>\n",
       "    </tr>\n",
       "    <tr>\n",
       "      <th>4</th>\n",
       "      <td>E01004563</td>\n",
       "      <td>Wandsworth</td>\n",
       "      <td>Robbery</td>\n",
       "      <td>Personal Property</td>\n",
       "      <td>0</td>\n",
       "      <td>2008</td>\n",
       "      <td>6</td>\n",
       "    </tr>\n",
       "    <tr>\n",
       "      <th>...</th>\n",
       "      <td>...</td>\n",
       "      <td>...</td>\n",
       "      <td>...</td>\n",
       "      <td>...</td>\n",
       "      <td>...</td>\n",
       "      <td>...</td>\n",
       "      <td>...</td>\n",
       "    </tr>\n",
       "    <tr>\n",
       "      <th>2203724</th>\n",
       "      <td>E01001955</td>\n",
       "      <td>Hammersmith and Fulham</td>\n",
       "      <td>Criminal Damage</td>\n",
       "      <td>Other Criminal Damage</td>\n",
       "      <td>0</td>\n",
       "      <td>2012</td>\n",
       "      <td>11</td>\n",
       "    </tr>\n",
       "    <tr>\n",
       "      <th>2203725</th>\n",
       "      <td>E01002196</td>\n",
       "      <td>Harrow</td>\n",
       "      <td>Burglary</td>\n",
       "      <td>Burglary in a Dwelling</td>\n",
       "      <td>0</td>\n",
       "      <td>2013</td>\n",
       "      <td>10</td>\n",
       "    </tr>\n",
       "    <tr>\n",
       "      <th>2203726</th>\n",
       "      <td>E01002886</td>\n",
       "      <td>Kensington and Chelsea</td>\n",
       "      <td>Theft and Handling</td>\n",
       "      <td>Theft/Taking Of Motor Vehicle</td>\n",
       "      <td>1</td>\n",
       "      <td>2012</td>\n",
       "      <td>5</td>\n",
       "    </tr>\n",
       "    <tr>\n",
       "      <th>2203727</th>\n",
       "      <td>E01002614</td>\n",
       "      <td>Hounslow</td>\n",
       "      <td>Drugs</td>\n",
       "      <td>Other Drugs</td>\n",
       "      <td>0</td>\n",
       "      <td>2016</td>\n",
       "      <td>5</td>\n",
       "    </tr>\n",
       "    <tr>\n",
       "      <th>2203728</th>\n",
       "      <td>E01000850</td>\n",
       "      <td>Camden</td>\n",
       "      <td>Criminal Damage</td>\n",
       "      <td>Criminal Damage To Dwelling</td>\n",
       "      <td>0</td>\n",
       "      <td>2013</td>\n",
       "      <td>1</td>\n",
       "    </tr>\n",
       "  </tbody>\n",
       "</table>\n",
       "<p>2203729 rows × 7 columns</p>\n",
       "</div>"
      ],
      "text/plain": [
       "         lsoa_code                 wilayah                 level_tinggi  \\\n",
       "0        E01001116                 Croydon                     Burglary   \n",
       "1        E01001646               Greenwich  Violence Against the Person   \n",
       "2        E01000677                 Bromley  Violence Against the Person   \n",
       "3        E01003774               Redbridge                     Burglary   \n",
       "4        E01004563              Wandsworth                      Robbery   \n",
       "...            ...                     ...                          ...   \n",
       "2203724  E01001955  Hammersmith and Fulham              Criminal Damage   \n",
       "2203725  E01002196                  Harrow                     Burglary   \n",
       "2203726  E01002886  Kensington and Chelsea           Theft and Handling   \n",
       "2203727  E01002614                Hounslow                        Drugs   \n",
       "2203728  E01000850                  Camden              Criminal Damage   \n",
       "\n",
       "                          level_rendah  jumlah_kejahatan  tahun  bulan  \n",
       "0          Burglary in Other Buildings                 0   2016     11  \n",
       "1                       Other violence                 0   2016     11  \n",
       "2                       Other violence                 0   2015      5  \n",
       "3          Burglary in Other Buildings                 0   2016      3  \n",
       "4                    Personal Property                 0   2008      6  \n",
       "...                                ...               ...    ...    ...  \n",
       "2203724          Other Criminal Damage                 0   2012     11  \n",
       "2203725         Burglary in a Dwelling                 0   2013     10  \n",
       "2203726  Theft/Taking Of Motor Vehicle                 1   2012      5  \n",
       "2203727                    Other Drugs                 0   2016      5  \n",
       "2203728    Criminal Damage To Dwelling                 0   2013      1  \n",
       "\n",
       "[2203729 rows x 7 columns]"
      ]
     },
     "execution_count": 12,
     "metadata": {},
     "output_type": "execute_result"
    }
   ],
   "source": [
    "df_baru"
   ]
  },
  {
   "cell_type": "code",
   "execution_count": 13,
   "metadata": {},
   "outputs": [
    {
     "name": "stdout",
     "output_type": "stream",
     "text": [
      "<class 'pandas.core.frame.DataFrame'>\n",
      "Int64Index: 2203729 entries, 0 to 2203728\n",
      "Data columns (total 7 columns):\n",
      " #   Column            Dtype \n",
      "---  ------            ----- \n",
      " 0   lsoa_code         object\n",
      " 1   wilayah           object\n",
      " 2   level_tinggi      object\n",
      " 3   level_rendah      object\n",
      " 4   jumlah_kejahatan  int64 \n",
      " 5   tahun             int64 \n",
      " 6   bulan             int64 \n",
      "dtypes: int64(3), object(4)\n",
      "memory usage: 134.5+ MB\n"
     ]
    }
   ],
   "source": [
    "df_baru.info()"
   ]
  },
  {
   "attachments": {},
   "cell_type": "markdown",
   "metadata": {},
   "source": [
    "Melihat korelasi data yang kita punya"
   ]
  },
  {
   "cell_type": "code",
   "execution_count": 14,
   "metadata": {},
   "outputs": [],
   "source": [
    "def plot_corr(df, size=11):\n",
    "    corr = df_baru.corr()\n",
    "    fig, ax= plt.subplots(figsize=(size, size))\n",
    "    ax.matshow(corr)\n",
    "    plt.xticks(range(len(corr.columns)), corr.columns)\n",
    "    plt.yticks(range(len(corr.columns)), corr.columns)"
   ]
  },
  {
   "cell_type": "code",
   "execution_count": 15,
   "metadata": {},
   "outputs": [
    {
     "data": {
      "image/png": "[encoded data removed]",
      "text/plain": [
       "<Figure size 792x792 with 1 Axes>"
      ]
     },
     "metadata": {
      "needs_background": "light"
     },
     "output_type": "display_data"
    }
   ],
   "source": [
    "plot_corr(df_baru)"
   ]
  },
  {
   "cell_type": "code",
   "execution_count": 16,
   "metadata": {},
   "outputs": [
    {
     "data": {
      "text/html": [
       "<div>\n",
       "<style scoped>\n",
       "    .dataframe tbody tr th:only-of-type {\n",
       "        vertical-align: middle;\n",
       "    }\n",
       "\n",
       "    .dataframe tbody tr th {\n",
       "        vertical-align: top;\n",
       "    }\n",
       "\n",
       "    .dataframe thead th {\n",
       "        text-align: right;\n",
       "    }\n",
       "</style>\n",
       "<table border=\"1\" class=\"dataframe\">\n",
       "  <thead>\n",
       "    <tr style=\"text-align: right;\">\n",
       "      <th></th>\n",
       "      <th>jumlah_kejahatan</th>\n",
       "      <th>tahun</th>\n",
       "      <th>bulan</th>\n",
       "    </tr>\n",
       "  </thead>\n",
       "  <tbody>\n",
       "    <tr>\n",
       "      <th>jumlah_kejahatan</th>\n",
       "      <td>1.000000</td>\n",
       "      <td>-0.001447</td>\n",
       "      <td>0.001600</td>\n",
       "    </tr>\n",
       "    <tr>\n",
       "      <th>tahun</th>\n",
       "      <td>-0.001447</td>\n",
       "      <td>1.000000</td>\n",
       "      <td>-0.000542</td>\n",
       "    </tr>\n",
       "    <tr>\n",
       "      <th>bulan</th>\n",
       "      <td>0.001600</td>\n",
       "      <td>-0.000542</td>\n",
       "      <td>1.000000</td>\n",
       "    </tr>\n",
       "  </tbody>\n",
       "</table>\n",
       "</div>"
      ],
      "text/plain": [
       "                  jumlah_kejahatan     tahun     bulan\n",
       "jumlah_kejahatan          1.000000 -0.001447  0.001600\n",
       "tahun                    -0.001447  1.000000 -0.000542\n",
       "bulan                     0.001600 -0.000542  1.000000"
      ]
     },
     "execution_count": 16,
     "metadata": {},
     "output_type": "execute_result"
    }
   ],
   "source": [
    "df_baru.corr()"
   ]
  },
  {
   "attachments": {},
   "cell_type": "markdown",
   "metadata": {},
   "source": [
    "## Visualisasi"
   ]
  },
  {
   "attachments": {},
   "cell_type": "markdown",
   "metadata": {},
   "source": [
    "### Line Pots"
   ]
  },
  {
   "cell_type": "code",
   "execution_count": 75,
   "metadata": {},
   "outputs": [
    {
     "data": {
      "text/plain": [
       "wilayah\n",
       "Barking and Dagenham      24424\n",
       "Barnet                    34741\n",
       "Bexley                    18565\n",
       "Brent                     37500\n",
       "Bromley                   29960\n",
       "Camden                    45002\n",
       "City of London              128\n",
       "Croydon                   41991\n",
       "Ealing                    40793\n",
       "Enfield                   31728\n",
       "Greenwich                 29542\n",
       "Hackney                   35759\n",
       "Hammersmith and Fulham    29838\n",
       "Haringey                  35227\n",
       "Harrow                    19239\n",
       "Havering                  22884\n",
       "Hillingdon                34312\n",
       "Hounslow                  30567\n",
       "Islington                 37310\n",
       "Kensington and Chelsea    27557\n",
       "Kingston upon Thames      14163\n",
       "Lambeth                   47290\n",
       "Lewisham                  34889\n",
       "Merton                    18285\n",
       "Newham                    42746\n",
       "Redbridge                 29940\n",
       "Richmond upon Thames      15418\n",
       "Southwark                 45734\n",
       "Sutton                    16356\n",
       "Tower Hamlets             37542\n",
       "Waltham Forest            33329\n",
       "Wandsworth                33643\n",
       "Westminster               71533\n",
       "Name: jumlah_kejahatan, dtype: int64"
      ]
     },
     "execution_count": 75,
     "metadata": {},
     "output_type": "execute_result"
    }
   ],
   "source": [
    "df_line = df_baru.groupby('wilayah')['jumlah_kejahatan'].sum()\n",
    "df_line"
   ]
  },
  {
   "attachments": {},
   "cell_type": "markdown",
   "metadata": {},
   "source": [
    "Dari data diatas kita dapat informasi setiap wilayah di LSOA dengan jumlah kejahatannya selama tahun 2008 sampai dengan 2016."
   ]
  },
  {
   "cell_type": "code",
   "execution_count": 65,
   "metadata": {},
   "outputs": [
    {
     "data": {
      "text/plain": [
       "<AxesSubplot:xlabel='wilayah'>"
      ]
     },
     "execution_count": 65,
     "metadata": {},
     "output_type": "execute_result"
    },
    {
     "data": {
      "image/png": "[encoded data removed]",
      "text/plain": [
       "<Figure size 432x288 with 1 Axes>"
      ]
     },
     "metadata": {
      "needs_background": "light"
     },
     "output_type": "display_data"
    }
   ],
   "source": [
    "df_line.plot()"
   ]
  },
  {
   "cell_type": "code",
   "execution_count": 67,
   "metadata": {},
   "outputs": [
    {
     "data": {
      "text/plain": [
       "Text(0, 0.5, 'Jumlah Kejahatan')"
      ]
     },
     "execution_count": 67,
     "metadata": {},
     "output_type": "execute_result"
    },
    {
     "data": {
      "image/png": "[encoded data removed]",
      "text/plain": [
       "<Figure size 1296x720 with 1 Axes>"
      ]
     },
     "metadata": {
      "needs_background": "light"
     },
     "output_type": "display_data"
    }
   ],
   "source": [
    "df_line.plot(kind='line',\n",
    "             figsize=(18,10))\n",
    "plt.title(\"Total Kejahatan per Wilayah di LSOA selama Tahun 2008 - 2016\")\n",
    "plt.xlabel('Wilayah')\n",
    "plt.ylabel('Jumlah Kejahatan')"
   ]
  },
  {
   "attachments": {},
   "cell_type": "markdown",
   "metadata": {},
   "source": [
    "Dapat dilihat pada visualisasi data di atas menunjukkan wilayah-wilayah di LSOA dengan jumlah kejahatannya selama tahun 2008 sampai dengan 2016"
   ]
  },
  {
   "attachments": {},
   "cell_type": "markdown",
   "metadata": {},
   "source": [
    "### Area Plot"
   ]
  },
  {
   "cell_type": "code",
   "execution_count": 76,
   "metadata": {},
   "outputs": [
    {
     "data": {
      "text/plain": [
       "level_tinggi\n",
       "Burglary                       123613\n",
       "Criminal Damage                102710\n",
       "Drugs                           76284\n",
       "Fraud or Forgery                  912\n",
       "Other Notifiable Offences       17147\n",
       "Robbery                         42602\n",
       "Sexual Offences                   179\n",
       "Theft and Handling             429892\n",
       "Violence Against the Person    254596\n",
       "Name: jumlah_kejahatan, dtype: int64"
      ]
     },
     "execution_count": 76,
     "metadata": {},
     "output_type": "execute_result"
    }
   ],
   "source": [
    "df_area = df_baru.groupby('level_tinggi')['jumlah_kejahatan'].sum()\n",
    "df_area"
   ]
  },
  {
   "cell_type": "code",
   "execution_count": 26,
   "metadata": {},
   "outputs": [
    {
     "data": {
      "text/plain": [
       "Text(0, 0.5, 'Total Kejahatan')"
      ]
     },
     "execution_count": 26,
     "metadata": {},
     "output_type": "execute_result"
    },
    {
     "data": {
      "image/png": "[encoded data removed]",
      "text/plain": [
       "<Figure size 1440x720 with 1 Axes>"
      ]
     },
     "metadata": {
      "needs_background": "light"
     },
     "output_type": "display_data"
    }
   ],
   "source": [
    "df_area.plot(kind='area', \n",
    "           alpha=0.50,\n",
    "           stacked=False,\n",
    "           figsize=(20,10))\n",
    "\n",
    "plt.title('Total Kejahatan selama 2008-2016 di LSOA')\n",
    "plt.xlabel('Level Tinggi Kejahatan')\n",
    "plt.ylabel('Total Kejahatan')\n"
   ]
  },
  {
   "attachments": {},
   "cell_type": "markdown",
   "metadata": {},
   "source": [
    "Area Plot Analysis : Dari Visualisasi data diatas, dapat memberikan informasi bahwa kejahatan terbanyak dengan kategori level tinggi di LSOA selama tahun 2008 sampai dengan 2016 adalah Theft and Handling. Dapat dilihat jenis kejahatan tersebut adalah jenis kejahatan yang paling mendominasi kejahatan yang lainnya di LSOA."
   ]
  },
  {
   "attachments": {},
   "cell_type": "markdown",
   "metadata": {},
   "source": [
    "### Histogram"
   ]
  },
  {
   "cell_type": "code",
   "execution_count": 77,
   "metadata": {},
   "outputs": [
    {
     "data": {
      "text/plain": [
       "tahun\n",
       "2008    119922\n",
       "2009    116250\n",
       "2010    116333\n",
       "2011    117025\n",
       "2012    120450\n",
       "2013    111802\n",
       "2014    110432\n",
       "2015    115712\n",
       "2016    120009\n",
       "Name: jumlah_kejahatan, dtype: int64"
      ]
     },
     "execution_count": 77,
     "metadata": {},
     "output_type": "execute_result"
    }
   ],
   "source": [
    "df_histo = df_baru.groupby('tahun')['jumlah_kejahatan'].sum()\n",
    "df_histo"
   ]
  },
  {
   "cell_type": "code",
   "execution_count": 71,
   "metadata": {},
   "outputs": [
    {
     "data": {
      "text/plain": [
       "Text(0.5, 0, 'Jumlah Kejahatan')"
      ]
     },
     "execution_count": 71,
     "metadata": {},
     "output_type": "execute_result"
    },
    {
     "data": {
      "image/png": "[encoded data removed]",
      "text/plain": [
       "<Figure size 432x288 with 1 Axes>"
      ]
     },
     "metadata": {
      "needs_background": "light"
     },
     "output_type": "display_data"
    }
   ],
   "source": [
    "df_histo = df_baru['tahun'].plot(kind='hist')\n",
    "\n",
    "df_histo.set_title(\"Jumlah Kejahatan per Tahunnya di LSOA\")\n",
    "df_histo.set_xlabel(\"Jumlah Kejahatan\")"
   ]
  },
  {
   "attachments": {},
   "cell_type": "markdown",
   "metadata": {},
   "source": [
    "Dari visualisasi data histogram di atas, dapat diketahui bahwa kejahatan setiap tahunnya di LSOA tidak berbeda jauh. Naik turun kasus kejahatan masih diangka 100.000 an. "
   ]
  },
  {
   "attachments": {},
   "cell_type": "markdown",
   "metadata": {},
   "source": [
    "### Bar Chart"
   ]
  },
  {
   "cell_type": "code",
   "execution_count": 26,
   "metadata": {},
   "outputs": [
    {
     "data": {
      "text/plain": [
       "wilayah\n",
       "Barking and Dagenham      24424\n",
       "Barnet                    34741\n",
       "Bexley                    18565\n",
       "Brent                     37500\n",
       "Bromley                   29960\n",
       "Camden                    45002\n",
       "City of London              128\n",
       "Croydon                   41991\n",
       "Ealing                    40793\n",
       "Enfield                   31728\n",
       "Greenwich                 29542\n",
       "Hackney                   35759\n",
       "Hammersmith and Fulham    29838\n",
       "Haringey                  35227\n",
       "Harrow                    19239\n",
       "Havering                  22884\n",
       "Hillingdon                34312\n",
       "Hounslow                  30567\n",
       "Islington                 37310\n",
       "Kensington and Chelsea    27557\n",
       "Kingston upon Thames      14163\n",
       "Lambeth                   47290\n",
       "Lewisham                  34889\n",
       "Merton                    18285\n",
       "Newham                    42746\n",
       "Redbridge                 29940\n",
       "Richmond upon Thames      15418\n",
       "Southwark                 45734\n",
       "Sutton                    16356\n",
       "Tower Hamlets             37542\n",
       "Waltham Forest            33329\n",
       "Wandsworth                33643\n",
       "Westminster               71533\n",
       "Name: jumlah_kejahatan, dtype: int64"
      ]
     },
     "execution_count": 26,
     "metadata": {},
     "output_type": "execute_result"
    }
   ],
   "source": [
    "df_bar = df_baru.groupby('wilayah')['jumlah_kejahatan'].sum()\n",
    "df_bar"
   ]
  },
  {
   "cell_type": "code",
   "execution_count": 30,
   "metadata": {},
   "outputs": [
    {
     "data": {
      "text/plain": [
       "Text(0.5, 0, 'Jumlah Kejahatan')"
      ]
     },
     "execution_count": 30,
     "metadata": {},
     "output_type": "execute_result"
    },
    {
     "data": {
      "image/png": "[encoded data removed]",
      "text/plain": [
       "<Figure size 1080x720 with 1 Axes>"
      ]
     },
     "metadata": {
      "needs_background": "light"
     },
     "output_type": "display_data"
    }
   ],
   "source": [
    "df_bar.plot(kind='barh'\n",
    "            ,figsize=(15,10)\n",
    "            ,color='green')\n",
    "\n",
    "plt.title('Wilayah di LSOA dengan Jumlah Kejahatannya Selama Tahun 2008 - 2016')\n",
    "plt.xlabel('Jumlah Kejahatan')"
   ]
  },
  {
   "attachments": {},
   "cell_type": "markdown",
   "metadata": {},
   "source": [
    "Dari visualisasi data menggunakan bar chart diatas sangat terlihat bahwa wilayah Westminster merupakan wilayah dengan kejahatan terbanyak di LSOA sepanjang tahun 2008 sampai dengan 2016 dan City of London merupakah wilayah paling sedikit kejahatannya."
   ]
  },
  {
   "attachments": {},
   "cell_type": "markdown",
   "metadata": {},
   "source": [
    "### Pie Chart"
   ]
  },
  {
   "cell_type": "code",
   "execution_count": 161,
   "metadata": {},
   "outputs": [
    {
     "data": {
      "text/plain": [
       "level_rendah\n",
       "Assault with Injury                        72949\n",
       "Burglary in Other Buildings                43044\n",
       "Burglary in a Dwelling                     80569\n",
       "Business Property                           3482\n",
       "Common Assault                             67782\n",
       "Counted per Victim                           685\n",
       "Criminal Damage To Dwelling                25262\n",
       "Criminal Damage To Motor Vehicle           43179\n",
       "Criminal Damage To Other Building          10752\n",
       "Drug Trafficking                            5765\n",
       "Going Equipped                               903\n",
       "Handling Stolen Goods                       2657\n",
       "Harassment                                 75077\n",
       "Motor Vehicle Interference & Tampering      9204\n",
       "Murder                                       161\n",
       "Offensive Weapon                            6125\n",
       "Other Criminal Damage                      23517\n",
       "Other Drugs                                  517\n",
       "Other Fraud & Forgery                        227\n",
       "Other Notifiable                           16244\n",
       "Other Sexual                                 132\n",
       "Other Theft                               157238\n",
       "Other Theft Person                         50062\n",
       "Other violence                             11682\n",
       "Personal Property                          39120\n",
       "Possession Of Drugs                        70002\n",
       "Rape                                          47\n",
       "Theft From Motor Vehicle                   92619\n",
       "Theft From Shops                           54766\n",
       "Theft/Taking Of Motor Vehicle              35673\n",
       "Theft/Taking of Pedal Cycle                27673\n",
       "Wounding/GBH                               20820\n",
       "Name: jumlah_kejahatan, dtype: int64"
      ]
     },
     "execution_count": 161,
     "metadata": {},
     "output_type": "execute_result"
    }
   ],
   "source": [
    "df_pie = df_baru.groupby('level_rendah')['jumlah_kejahatan'].sum()\n",
    "df_pie"
   ]
  },
  {
   "cell_type": "code",
   "execution_count": 165,
   "metadata": {},
   "outputs": [
    {
     "data": {
      "text/plain": [
       "level_rendah\n",
       "Other Theft                 157238\n",
       "Theft From Motor Vehicle     92619\n",
       "Burglary in a Dwelling       80569\n",
       "Harassment                   75077\n",
       "Assault with Injury          72949\n",
       "Name: jumlah_kejahatan, dtype: int64"
      ]
     },
     "execution_count": 165,
     "metadata": {},
     "output_type": "execute_result"
    }
   ],
   "source": [
    "df_pie.nlargest(5)"
   ]
  },
  {
   "cell_type": "code",
   "execution_count": 209,
   "metadata": {},
   "outputs": [
    {
     "data": {
      "text/plain": [
       "<matplotlib.legend.Legend at 0x14eebe350>"
      ]
     },
     "execution_count": 209,
     "metadata": {},
     "output_type": "execute_result"
    },
    {
     "data": {
      "image/png": "[encoded data removed]",
      "text/plain": [
       "<Figure size 1080x432 with 1 Axes>"
      ]
     },
     "metadata": {},
     "output_type": "display_data"
    }
   ],
   "source": [
    "color_list = [\"gold\", \"yellowgreen\", \"lightcoral\", \"lightskyblue\", \"lightgreen\"]\n",
    "explode_list = [0.05, 0.02, 0.02, 0, 0]\n",
    "\n",
    "df_pie.nlargest(5).plot(\n",
    "    kind='pie'\n",
    "    ,figsize=(15,6)\n",
    "    ,autopct='%1.1f%%'\n",
    "    ,startangle=90\n",
    "    ,shadow=True\n",
    "    ,labels=None\n",
    "    ,explode=explode_list\n",
    "    ,colors=color_list\n",
    ")\n",
    "\n",
    "plt.title(\"5 Teratas Kejahatan dengan Level Rendah di LSOA\", y=1.12)\n",
    "plt.axis('equal')\n",
    "plt.legend(labels=df_pie.nlargest(5).index, loc='upper left')\n"
   ]
  },
  {
   "attachments": {},
   "cell_type": "markdown",
   "metadata": {},
   "source": [
    "Dalam pie chart diatas dapat terlihat bahwa Other Theft merupakan kejahatan terbanyak dengan kategori kejahatan level rendah di wilayah LSOA selama tahun 2008 - 2016"
   ]
  },
  {
   "attachments": {},
   "cell_type": "markdown",
   "metadata": {},
   "source": [
    "### Box Plot"
   ]
  },
  {
   "cell_type": "code",
   "execution_count": 376,
   "metadata": {},
   "outputs": [
    {
     "data": {
      "text/plain": [
       "wilayah\n",
       "Barking and Dagenham      24424\n",
       "Barnet                    34741\n",
       "Bexley                    18565\n",
       "Brent                     37500\n",
       "Bromley                   29960\n",
       "Camden                    45002\n",
       "City of London              128\n",
       "Croydon                   41991\n",
       "Ealing                    40793\n",
       "Enfield                   31728\n",
       "Greenwich                 29542\n",
       "Hackney                   35759\n",
       "Hammersmith and Fulham    29838\n",
       "Haringey                  35227\n",
       "Harrow                    19239\n",
       "Havering                  22884\n",
       "Hillingdon                34312\n",
       "Hounslow                  30567\n",
       "Islington                 37310\n",
       "Kensington and Chelsea    27557\n",
       "Kingston upon Thames      14163\n",
       "Lambeth                   47290\n",
       "Lewisham                  34889\n",
       "Merton                    18285\n",
       "Newham                    42746\n",
       "Redbridge                 29940\n",
       "Richmond upon Thames      15418\n",
       "Southwark                 45734\n",
       "Sutton                    16356\n",
       "Tower Hamlets             37542\n",
       "Waltham Forest            33329\n",
       "Wandsworth                33643\n",
       "Westminster               71533\n",
       "Name: jumlah_kejahatan, dtype: int64"
      ]
     },
     "execution_count": 376,
     "metadata": {},
     "output_type": "execute_result"
    }
   ],
   "source": [
    "df_box = df_baru.groupby('wilayah')['jumlah_kejahatan'].sum()\n",
    "df_box"
   ]
  },
  {
   "cell_type": "code",
   "execution_count": 377,
   "metadata": {},
   "outputs": [
    {
     "data": {
      "text/plain": [
       "wilayah\n",
       "Westminster    71533\n",
       "Lambeth        47290\n",
       "Southwark      45734\n",
       "Name: jumlah_kejahatan, dtype: int64"
      ]
     },
     "execution_count": 377,
     "metadata": {},
     "output_type": "execute_result"
    }
   ],
   "source": [
    "df_box.nlargest(3)"
   ]
  },
  {
   "cell_type": "code",
   "execution_count": 301,
   "metadata": {},
   "outputs": [],
   "source": [
    "df_box = pd.DataFrame(df_baru.groupby('wilayah')['jumlah_kejahatan'].sum())"
   ]
  },
  {
   "cell_type": "code",
   "execution_count": 306,
   "metadata": {},
   "outputs": [
    {
     "data": {
      "text/html": [
       "<div>\n",
       "<style scoped>\n",
       "    .dataframe tbody tr th:only-of-type {\n",
       "        vertical-align: middle;\n",
       "    }\n",
       "\n",
       "    .dataframe tbody tr th {\n",
       "        vertical-align: top;\n",
       "    }\n",
       "\n",
       "    .dataframe thead th {\n",
       "        text-align: right;\n",
       "    }\n",
       "</style>\n",
       "<table border=\"1\" class=\"dataframe\">\n",
       "  <thead>\n",
       "    <tr style=\"text-align: right;\">\n",
       "      <th></th>\n",
       "      <th>jumlah_kejahatan</th>\n",
       "    </tr>\n",
       "    <tr>\n",
       "      <th>wilayah</th>\n",
       "      <th></th>\n",
       "    </tr>\n",
       "  </thead>\n",
       "  <tbody>\n",
       "    <tr>\n",
       "      <th>Barking and Dagenham</th>\n",
       "      <td>24424</td>\n",
       "    </tr>\n",
       "    <tr>\n",
       "      <th>Barnet</th>\n",
       "      <td>34741</td>\n",
       "    </tr>\n",
       "    <tr>\n",
       "      <th>Bexley</th>\n",
       "      <td>18565</td>\n",
       "    </tr>\n",
       "    <tr>\n",
       "      <th>Brent</th>\n",
       "      <td>37500</td>\n",
       "    </tr>\n",
       "    <tr>\n",
       "      <th>Bromley</th>\n",
       "      <td>29960</td>\n",
       "    </tr>\n",
       "    <tr>\n",
       "      <th>Camden</th>\n",
       "      <td>45002</td>\n",
       "    </tr>\n",
       "    <tr>\n",
       "      <th>City of London</th>\n",
       "      <td>128</td>\n",
       "    </tr>\n",
       "    <tr>\n",
       "      <th>Croydon</th>\n",
       "      <td>41991</td>\n",
       "    </tr>\n",
       "    <tr>\n",
       "      <th>Ealing</th>\n",
       "      <td>40793</td>\n",
       "    </tr>\n",
       "    <tr>\n",
       "      <th>Enfield</th>\n",
       "      <td>31728</td>\n",
       "    </tr>\n",
       "    <tr>\n",
       "      <th>Greenwich</th>\n",
       "      <td>29542</td>\n",
       "    </tr>\n",
       "    <tr>\n",
       "      <th>Hackney</th>\n",
       "      <td>35759</td>\n",
       "    </tr>\n",
       "    <tr>\n",
       "      <th>Hammersmith and Fulham</th>\n",
       "      <td>29838</td>\n",
       "    </tr>\n",
       "    <tr>\n",
       "      <th>Haringey</th>\n",
       "      <td>35227</td>\n",
       "    </tr>\n",
       "    <tr>\n",
       "      <th>Harrow</th>\n",
       "      <td>19239</td>\n",
       "    </tr>\n",
       "    <tr>\n",
       "      <th>Havering</th>\n",
       "      <td>22884</td>\n",
       "    </tr>\n",
       "    <tr>\n",
       "      <th>Hillingdon</th>\n",
       "      <td>34312</td>\n",
       "    </tr>\n",
       "    <tr>\n",
       "      <th>Hounslow</th>\n",
       "      <td>30567</td>\n",
       "    </tr>\n",
       "    <tr>\n",
       "      <th>Islington</th>\n",
       "      <td>37310</td>\n",
       "    </tr>\n",
       "    <tr>\n",
       "      <th>Kensington and Chelsea</th>\n",
       "      <td>27557</td>\n",
       "    </tr>\n",
       "    <tr>\n",
       "      <th>Kingston upon Thames</th>\n",
       "      <td>14163</td>\n",
       "    </tr>\n",
       "    <tr>\n",
       "      <th>Lambeth</th>\n",
       "      <td>47290</td>\n",
       "    </tr>\n",
       "    <tr>\n",
       "      <th>Lewisham</th>\n",
       "      <td>34889</td>\n",
       "    </tr>\n",
       "    <tr>\n",
       "      <th>Merton</th>\n",
       "      <td>18285</td>\n",
       "    </tr>\n",
       "    <tr>\n",
       "      <th>Newham</th>\n",
       "      <td>42746</td>\n",
       "    </tr>\n",
       "    <tr>\n",
       "      <th>Redbridge</th>\n",
       "      <td>29940</td>\n",
       "    </tr>\n",
       "    <tr>\n",
       "      <th>Richmond upon Thames</th>\n",
       "      <td>15418</td>\n",
       "    </tr>\n",
       "    <tr>\n",
       "      <th>Southwark</th>\n",
       "      <td>45734</td>\n",
       "    </tr>\n",
       "    <tr>\n",
       "      <th>Sutton</th>\n",
       "      <td>16356</td>\n",
       "    </tr>\n",
       "    <tr>\n",
       "      <th>Tower Hamlets</th>\n",
       "      <td>37542</td>\n",
       "    </tr>\n",
       "    <tr>\n",
       "      <th>Waltham Forest</th>\n",
       "      <td>33329</td>\n",
       "    </tr>\n",
       "    <tr>\n",
       "      <th>Wandsworth</th>\n",
       "      <td>33643</td>\n",
       "    </tr>\n",
       "    <tr>\n",
       "      <th>Westminster</th>\n",
       "      <td>71533</td>\n",
       "    </tr>\n",
       "  </tbody>\n",
       "</table>\n",
       "</div>"
      ],
      "text/plain": [
       "                        jumlah_kejahatan\n",
       "wilayah                                 \n",
       "Barking and Dagenham               24424\n",
       "Barnet                             34741\n",
       "Bexley                             18565\n",
       "Brent                              37500\n",
       "Bromley                            29960\n",
       "Camden                             45002\n",
       "City of London                       128\n",
       "Croydon                            41991\n",
       "Ealing                             40793\n",
       "Enfield                            31728\n",
       "Greenwich                          29542\n",
       "Hackney                            35759\n",
       "Hammersmith and Fulham             29838\n",
       "Haringey                           35227\n",
       "Harrow                             19239\n",
       "Havering                           22884\n",
       "Hillingdon                         34312\n",
       "Hounslow                           30567\n",
       "Islington                          37310\n",
       "Kensington and Chelsea             27557\n",
       "Kingston upon Thames               14163\n",
       "Lambeth                            47290\n",
       "Lewisham                           34889\n",
       "Merton                             18285\n",
       "Newham                             42746\n",
       "Redbridge                          29940\n",
       "Richmond upon Thames               15418\n",
       "Southwark                          45734\n",
       "Sutton                             16356\n",
       "Tower Hamlets                      37542\n",
       "Waltham Forest                     33329\n",
       "Wandsworth                         33643\n",
       "Westminster                        71533"
      ]
     },
     "execution_count": 306,
     "metadata": {},
     "output_type": "execute_result"
    }
   ],
   "source": [
    "df_box"
   ]
  },
  {
   "cell_type": "code",
   "execution_count": 324,
   "metadata": {},
   "outputs": [
    {
     "data": {
      "text/plain": [
       "<AxesSubplot:>"
      ]
     },
     "execution_count": 324,
     "metadata": {},
     "output_type": "execute_result"
    },
    {
     "data": {
      "image/png": "[encoded data removed]",
      "text/plain": [
       "<Figure size 576x432 with 1 Axes>"
      ]
     },
     "metadata": {
      "needs_background": "light"
     },
     "output_type": "display_data"
    }
   ],
   "source": [
    "df_box.plot(kind='box', figsize=(8,6), vert=False)"
   ]
  },
  {
   "cell_type": "code",
   "execution_count": 251,
   "metadata": {},
   "outputs": [],
   "source": [
    "df_box = df_baru.set_index('wilayah')"
   ]
  },
  {
   "attachments": {},
   "cell_type": "markdown",
   "metadata": {},
   "source": [
    "### Scatter Plot"
   ]
  },
  {
   "cell_type": "code",
   "execution_count": 253,
   "metadata": {},
   "outputs": [],
   "source": [
    "tahun = range(2008, 2017)"
   ]
  },
  {
   "cell_type": "code",
   "execution_count": 382,
   "metadata": {},
   "outputs": [
    {
     "data": {
      "text/plain": [
       "tahun\n",
       "2008    119922\n",
       "2009    116250\n",
       "2010    116333\n",
       "2011    117025\n",
       "2012    120450\n",
       "2013    111802\n",
       "2014    110432\n",
       "2015    115712\n",
       "2016    120009\n",
       "Name: jumlah_kejahatan, dtype: int64"
      ]
     },
     "execution_count": 382,
     "metadata": {},
     "output_type": "execute_result"
    }
   ],
   "source": [
    "df_scatter = df_baru.groupby('tahun')['jumlah_kejahatan'].sum()\n",
    "df_scatter"
   ]
  },
  {
   "attachments": {},
   "cell_type": "markdown",
   "metadata": {},
   "source": [
    "Kita dapat melihat terlebih dahulu jumlah kejahatan per tahunnya di LSOA dengan mengakses langsung data pada dataset dengan pandas. "
   ]
  },
  {
   "cell_type": "code",
   "execution_count": 383,
   "metadata": {},
   "outputs": [
    {
     "data": {
      "text/plain": [
       "tahun\n",
       "2012    120450\n",
       "Name: jumlah_kejahatan, dtype: int64"
      ]
     },
     "execution_count": 383,
     "metadata": {},
     "output_type": "execute_result"
    }
   ],
   "source": [
    "df_scatter.nlargest(1)"
   ]
  },
  {
   "cell_type": "code",
   "execution_count": 259,
   "metadata": {},
   "outputs": [],
   "source": [
    "df_scatter = pd.DataFrame(df_baru.groupby('tahun')['jumlah_kejahatan'].sum())"
   ]
  },
  {
   "attachments": {},
   "cell_type": "markdown",
   "metadata": {},
   "source": [
    "Namun karena pada scatter plot hanya bisa menggunakan data yang ada dalam dataframe, maka kita perlu membuat dataframe terlebih dahulu agar data dapat diolah dengan semestinya, sehingga menghasilkan visualisasi yang kita inginkan."
   ]
  },
  {
   "cell_type": "code",
   "execution_count": 260,
   "metadata": {},
   "outputs": [
    {
     "data": {
      "text/plain": [
       "Int64Index([2008, 2009, 2010, 2011, 2012, 2013, 2014, 2015, 2016], dtype='int64', name='tahun')"
      ]
     },
     "execution_count": 260,
     "metadata": {},
     "output_type": "execute_result"
    }
   ],
   "source": [
    "df_scatter.index"
   ]
  },
  {
   "cell_type": "code",
   "execution_count": 262,
   "metadata": {},
   "outputs": [],
   "source": [
    "df_scatter.reset_index(inplace=True)"
   ]
  },
  {
   "cell_type": "code",
   "execution_count": 263,
   "metadata": {},
   "outputs": [
    {
     "data": {
      "text/plain": [
       "RangeIndex(start=0, stop=9, step=1)"
      ]
     },
     "execution_count": 263,
     "metadata": {},
     "output_type": "execute_result"
    }
   ],
   "source": [
    "df_scatter.index"
   ]
  },
  {
   "cell_type": "code",
   "execution_count": 264,
   "metadata": {},
   "outputs": [],
   "source": [
    "df_scatter.columns = [\"tahun\", \"jumlah_kejahatan\"]"
   ]
  },
  {
   "cell_type": "code",
   "execution_count": 265,
   "metadata": {},
   "outputs": [
    {
     "data": {
      "text/html": [
       "<div>\n",
       "<style scoped>\n",
       "    .dataframe tbody tr th:only-of-type {\n",
       "        vertical-align: middle;\n",
       "    }\n",
       "\n",
       "    .dataframe tbody tr th {\n",
       "        vertical-align: top;\n",
       "    }\n",
       "\n",
       "    .dataframe thead th {\n",
       "        text-align: right;\n",
       "    }\n",
       "</style>\n",
       "<table border=\"1\" class=\"dataframe\">\n",
       "  <thead>\n",
       "    <tr style=\"text-align: right;\">\n",
       "      <th></th>\n",
       "      <th>tahun</th>\n",
       "      <th>jumlah_kejahatan</th>\n",
       "    </tr>\n",
       "  </thead>\n",
       "  <tbody>\n",
       "    <tr>\n",
       "      <th>0</th>\n",
       "      <td>2008</td>\n",
       "      <td>119922</td>\n",
       "    </tr>\n",
       "    <tr>\n",
       "      <th>1</th>\n",
       "      <td>2009</td>\n",
       "      <td>116250</td>\n",
       "    </tr>\n",
       "    <tr>\n",
       "      <th>2</th>\n",
       "      <td>2010</td>\n",
       "      <td>116333</td>\n",
       "    </tr>\n",
       "    <tr>\n",
       "      <th>3</th>\n",
       "      <td>2011</td>\n",
       "      <td>117025</td>\n",
       "    </tr>\n",
       "    <tr>\n",
       "      <th>4</th>\n",
       "      <td>2012</td>\n",
       "      <td>120450</td>\n",
       "    </tr>\n",
       "    <tr>\n",
       "      <th>5</th>\n",
       "      <td>2013</td>\n",
       "      <td>111802</td>\n",
       "    </tr>\n",
       "    <tr>\n",
       "      <th>6</th>\n",
       "      <td>2014</td>\n",
       "      <td>110432</td>\n",
       "    </tr>\n",
       "    <tr>\n",
       "      <th>7</th>\n",
       "      <td>2015</td>\n",
       "      <td>115712</td>\n",
       "    </tr>\n",
       "    <tr>\n",
       "      <th>8</th>\n",
       "      <td>2016</td>\n",
       "      <td>120009</td>\n",
       "    </tr>\n",
       "  </tbody>\n",
       "</table>\n",
       "</div>"
      ],
      "text/plain": [
       "   tahun  jumlah_kejahatan\n",
       "0   2008            119922\n",
       "1   2009            116250\n",
       "2   2010            116333\n",
       "3   2011            117025\n",
       "4   2012            120450\n",
       "5   2013            111802\n",
       "6   2014            110432\n",
       "7   2015            115712\n",
       "8   2016            120009"
      ]
     },
     "execution_count": 265,
     "metadata": {},
     "output_type": "execute_result"
    }
   ],
   "source": [
    "df_scatter"
   ]
  },
  {
   "cell_type": "code",
   "execution_count": 374,
   "metadata": {},
   "outputs": [
    {
     "data": {
      "text/plain": [
       "tahun                 18108\n",
       "jumlah_kejahatan    1047935\n",
       "dtype: int64"
      ]
     },
     "execution_count": 374,
     "metadata": {},
     "output_type": "execute_result"
    }
   ],
   "source": [
    "df_scatter.sum()"
   ]
  },
  {
   "attachments": {},
   "cell_type": "markdown",
   "metadata": {},
   "source": [
    "Maka dapat terlihat dengan baik data jumlah kejahatan per tahunnya yang disajikan dalam bentuk dataframe."
   ]
  },
  {
   "cell_type": "code",
   "execution_count": 268,
   "metadata": {},
   "outputs": [
    {
     "data": {
      "text/plain": [
       "Text(0, 0.5, 'Jumlah Kejahatan')"
      ]
     },
     "execution_count": 268,
     "metadata": {},
     "output_type": "execute_result"
    },
    {
     "data": {
      "image/png": "[encoded data removed]",
      "text/plain": [
       "<Figure size 720x432 with 1 Axes>"
      ]
     },
     "metadata": {
      "needs_background": "light"
     },
     "output_type": "display_data"
    }
   ],
   "source": [
    "df_scatter.plot(\n",
    "    kind='scatter'\n",
    "    ,x='tahun'\n",
    "    ,y='jumlah_kejahatan'\n",
    "    ,figsize=(10,6)\n",
    ")\n",
    "\n",
    "plt.title(\"Total Jumlah Kejahatan dari Tahun 2008 sampai 2016 di wilayah LSOA\")\n",
    "plt.xlabel(\"Tahun\")\n",
    "plt.ylabel(\"Jumlah Kejahatan\")\n"
   ]
  },
  {
   "attachments": {},
   "cell_type": "markdown",
   "metadata": {},
   "source": [
    "Dapat terlihat bahwa kejahatan yang terjadi di LSOA sepanjang tahun 2008 sampai dengan 2016 tidak menentu, terus mengalami naik turun tingkat ketinggian kejahatannya."
   ]
  },
  {
   "attachments": {},
   "cell_type": "markdown",
   "metadata": {},
   "source": [
    "### Word Clouds"
   ]
  },
  {
   "cell_type": "code",
   "execution_count": 356,
   "metadata": {},
   "outputs": [
    {
     "data": {
      "text/plain": [
       "level_tinggi\n",
       "Burglary                       123613\n",
       "Criminal Damage                102710\n",
       "Drugs                           76284\n",
       "Fraud or Forgery                  912\n",
       "Other Notifiable Offences       17147\n",
       "Robbery                         42602\n",
       "Sexual Offences                   179\n",
       "Theft and Handling             429892\n",
       "Violence Against the Person    254596\n",
       "Name: jumlah_kejahatan, dtype: int64"
      ]
     },
     "execution_count": 356,
     "metadata": {},
     "output_type": "execute_result"
    }
   ],
   "source": [
    "df_word = df_baru.groupby('level_tinggi')['jumlah_kejahatan'].sum()\n",
    "df_word"
   ]
  },
  {
   "cell_type": "code",
   "execution_count": 363,
   "metadata": {},
   "outputs": [
    {
     "data": {
      "image/png": "[encoded data removed]",
      "text/plain": [
       "<Figure size 432x288 with 1 Axes>"
      ]
     },
     "metadata": {
      "needs_background": "light"
     },
     "output_type": "display_data"
    }
   ],
   "source": [
    "df_word = \" \".join(level_tinggi.split()[0] for level_tinggi in df_baru.level_tinggi)\n",
    "\n",
    "wordcloud = WordCloud(collocations = False, background_color = 'white').generate(df_word)\n",
    "\n",
    "plt.imshow(wordcloud, interpolation='bilinear')\n",
    "plt.axis(\"off\")\n",
    "plt.show()\n"
   ]
  },
  {
   "attachments": {},
   "cell_type": "markdown",
   "metadata": {},
   "source": [
    "Dengan visualisasi word cloud tersebut dapat terlihat bahwa kasus yang mendominasi kejahatan yang terjadi di LSOA adalah kejahatan Violence, Criminal, Theft dan Drugs pada kategori kejahatan dengan level tinggi."
   ]
  },
  {
   "cell_type": "code",
   "execution_count": 365,
   "metadata": {},
   "outputs": [
    {
     "data": {
      "text/plain": [
       "level_rendah\n",
       "Assault with Injury                        72949\n",
       "Burglary in Other Buildings                43044\n",
       "Burglary in a Dwelling                     80569\n",
       "Business Property                           3482\n",
       "Common Assault                             67782\n",
       "Counted per Victim                           685\n",
       "Criminal Damage To Dwelling                25262\n",
       "Criminal Damage To Motor Vehicle           43179\n",
       "Criminal Damage To Other Building          10752\n",
       "Drug Trafficking                            5765\n",
       "Going Equipped                               903\n",
       "Handling Stolen Goods                       2657\n",
       "Harassment                                 75077\n",
       "Motor Vehicle Interference & Tampering      9204\n",
       "Murder                                       161\n",
       "Offensive Weapon                            6125\n",
       "Other Criminal Damage                      23517\n",
       "Other Drugs                                  517\n",
       "Other Fraud & Forgery                        227\n",
       "Other Notifiable                           16244\n",
       "Other Sexual                                 132\n",
       "Other Theft                               157238\n",
       "Other Theft Person                         50062\n",
       "Other violence                             11682\n",
       "Personal Property                          39120\n",
       "Possession Of Drugs                        70002\n",
       "Rape                                          47\n",
       "Theft From Motor Vehicle                   92619\n",
       "Theft From Shops                           54766\n",
       "Theft/Taking Of Motor Vehicle              35673\n",
       "Theft/Taking of Pedal Cycle                27673\n",
       "Wounding/GBH                               20820\n",
       "Name: jumlah_kejahatan, dtype: int64"
      ]
     },
     "execution_count": 365,
     "metadata": {},
     "output_type": "execute_result"
    }
   ],
   "source": [
    "df_word = df_baru.groupby('level_rendah')['jumlah_kejahatan'].sum()\n",
    "df_word"
   ]
  },
  {
   "cell_type": "code",
   "execution_count": 364,
   "metadata": {},
   "outputs": [
    {
     "data": {
      "image/png": "[encoded data removed]",
      "text/plain": [
       "<Figure size 432x288 with 1 Axes>"
      ]
     },
     "metadata": {
      "needs_background": "light"
     },
     "output_type": "display_data"
    }
   ],
   "source": [
    "df_word = \" \".join(level_rendah.split()[0] for level_rendah in df_baru.level_rendah)\n",
    "\n",
    "wordcloud = WordCloud(collocations = False, background_color = 'white').generate(df_word)\n",
    "\n",
    "plt.imshow(wordcloud, interpolation='bilinear')\n",
    "plt.axis(\"off\")\n",
    "plt.show()"
   ]
  },
  {
   "attachments": {},
   "cell_type": "markdown",
   "metadata": {},
   "source": [
    "Dan untuk kasus kejahatan yang mendominasi pada kategori kasus kejahatan rendah di LSOA adalah Theft, Criminal, Burglary dan Taking."
   ]
  },
  {
   "attachments": {},
   "cell_type": "markdown",
   "metadata": {},
   "source": [
    "### Follium Maps"
   ]
  },
  {
   "cell_type": "code",
   "execution_count": 367,
   "metadata": {},
   "outputs": [],
   "source": [
    "import folium"
   ]
  },
  {
   "cell_type": "code",
   "execution_count": 368,
   "metadata": {},
   "outputs": [
    {
     "data": {
      "text/html": [
       "<div style=\"width:100%;\"><div style=\"position:relative;width:100%;height:0;padding-bottom:60%;\"><span style=\"color:#565656\">Make this Notebook Trusted to load map: File -> Trust Notebook</span><iframe srcdoc=\"&lt;!DOCTYPE html&gt;\n",
       "&lt;html&gt;\n",
       "&lt;head&gt;\n",
       "    \n",
       "    &lt;meta http-equiv=&quot;content-type&quot; content=&quot;text/html; charset=UTF-8&quot; /&gt;\n",
       "    \n",
       "        &lt;script&gt;\n",
       "            L_NO_TOUCH = false;\n",
       "            L_DISABLE_3D = false;\n",
       "        &lt;/script&gt;\n",
       "    \n",
       "    &lt;style&gt;html, body {width: 100%;height: 100%;margin: 0;padding: 0;}&lt;/style&gt;\n",
       "    &lt;style&gt;#map {position:absolute;top:0;bottom:0;right:0;left:0;}&lt;/style&gt;\n",
       "    &lt;script src=&quot;https://cdn.jsdelivr.net/npm/leaflet@1.9.3/dist/leaflet.js&quot;&gt;&lt;/script&gt;\n",
       "    &lt;script src=&quot;https://code.jquery.com/jquery-1.12.4.min.js&quot;&gt;&lt;/script&gt;\n",
       "    &lt;script src=&quot;https://cdn.jsdelivr.net/npm/bootstrap@5.2.2/dist/js/bootstrap.bundle.min.js&quot;&gt;&lt;/script&gt;\n",
       "    &lt;script src=&quot;https://cdnjs.cloudflare.com/ajax/libs/Leaflet.awesome-markers/2.0.2/leaflet.awesome-markers.js&quot;&gt;&lt;/script&gt;\n",
       "    &lt;link rel=&quot;stylesheet&quot; href=&quot;https://cdn.jsdelivr.net/npm/leaflet@1.9.3/dist/leaflet.css&quot;/&gt;\n",
       "    &lt;link rel=&quot;stylesheet&quot; href=&quot;https://cdn.jsdelivr.net/npm/bootstrap@5.2.2/dist/css/bootstrap.min.css&quot;/&gt;\n",
       "    &lt;link rel=&quot;stylesheet&quot; href=&quot;https://netdna.bootstrapcdn.com/bootstrap/3.0.0/css/bootstrap.min.css&quot;/&gt;\n",
       "    &lt;link rel=&quot;stylesheet&quot; href=&quot;https://cdn.jsdelivr.net/npm/@fortawesome/fontawesome-free@6.2.0/css/all.min.css&quot;/&gt;\n",
       "    &lt;link rel=&quot;stylesheet&quot; href=&quot;https://cdnjs.cloudflare.com/ajax/libs/Leaflet.awesome-markers/2.0.2/leaflet.awesome-markers.css&quot;/&gt;\n",
       "    &lt;link rel=&quot;stylesheet&quot; href=&quot;https://cdn.jsdelivr.net/gh/python-visualization/folium/folium/templates/leaflet.awesome.rotate.min.css&quot;/&gt;\n",
       "    \n",
       "            &lt;meta name=&quot;viewport&quot; content=&quot;width=device-width,\n",
       "                initial-scale=1.0, maximum-scale=1.0, user-scalable=no&quot; /&gt;\n",
       "            &lt;style&gt;\n",
       "                #map_004139b43bf9ce5a39215c436cce3175 {\n",
       "                    position: relative;\n",
       "                    width: 100.0%;\n",
       "                    height: 100.0%;\n",
       "                    left: 0.0%;\n",
       "                    top: 0.0%;\n",
       "                }\n",
       "                .leaflet-container { font-size: 1rem; }\n",
       "            &lt;/style&gt;\n",
       "        \n",
       "&lt;/head&gt;\n",
       "&lt;body&gt;\n",
       "    \n",
       "    \n",
       "            &lt;div class=&quot;folium-map&quot; id=&quot;map_004139b43bf9ce5a39215c436cce3175&quot; &gt;&lt;/div&gt;\n",
       "        \n",
       "&lt;/body&gt;\n",
       "&lt;script&gt;\n",
       "    \n",
       "    \n",
       "            var map_004139b43bf9ce5a39215c436cce3175 = L.map(\n",
       "                &quot;map_004139b43bf9ce5a39215c436cce3175&quot;,\n",
       "                {\n",
       "                    center: [0, 0],\n",
       "                    crs: L.CRS.EPSG3857,\n",
       "                    zoom: 1,\n",
       "                    zoomControl: true,\n",
       "                    preferCanvas: false,\n",
       "                }\n",
       "            );\n",
       "\n",
       "            \n",
       "\n",
       "        \n",
       "    \n",
       "            var tile_layer_e514d67c553fe7443ca5f78997907108 = L.tileLayer(\n",
       "                &quot;https://{s}.tile.openstreetmap.org/{z}/{x}/{y}.png&quot;,\n",
       "                {&quot;attribution&quot;: &quot;Data by \\u0026copy; \\u003ca target=\\&quot;_blank\\&quot; href=\\&quot;http://openstreetmap.org\\&quot;\\u003eOpenStreetMap\\u003c/a\\u003e, under \\u003ca target=\\&quot;_blank\\&quot; href=\\&quot;http://www.openstreetmap.org/copyright\\&quot;\\u003eODbL\\u003c/a\\u003e.&quot;, &quot;detectRetina&quot;: false, &quot;maxNativeZoom&quot;: 18, &quot;maxZoom&quot;: 18, &quot;minZoom&quot;: 0, &quot;noWrap&quot;: false, &quot;opacity&quot;: 1, &quot;subdomains&quot;: &quot;abc&quot;, &quot;tms&quot;: false}\n",
       "            ).addTo(map_004139b43bf9ce5a39215c436cce3175);\n",
       "        \n",
       "&lt;/script&gt;\n",
       "&lt;/html&gt;\" style=\"position:absolute;width:100%;height:100%;left:0;top:0;border:none !important;\" allowfullscreen webkitallowfullscreen mozallowfullscreen></iframe></div></div>"
      ],
      "text/plain": [
       "<folium.folium.Map at 0x150d5fdc0>"
      ]
     },
     "execution_count": 368,
     "metadata": {},
     "output_type": "execute_result"
    }
   ],
   "source": [
    "world_map = folium.Map()\n",
    "world_map"
   ]
  },
  {
   "cell_type": "code",
   "execution_count": 366,
   "metadata": {},
   "outputs": [
    {
     "data": {
      "text/html": [
       "<div>\n",
       "<style scoped>\n",
       "    .dataframe tbody tr th:only-of-type {\n",
       "        vertical-align: middle;\n",
       "    }\n",
       "\n",
       "    .dataframe tbody tr th {\n",
       "        vertical-align: top;\n",
       "    }\n",
       "\n",
       "    .dataframe thead th {\n",
       "        text-align: right;\n",
       "    }\n",
       "</style>\n",
       "<table border=\"1\" class=\"dataframe\">\n",
       "  <thead>\n",
       "    <tr style=\"text-align: right;\">\n",
       "      <th></th>\n",
       "      <th>lsoa_code</th>\n",
       "      <th>wilayah</th>\n",
       "      <th>level_tinggi</th>\n",
       "      <th>level_rendah</th>\n",
       "      <th>jumlah_kejahatan</th>\n",
       "      <th>tahun</th>\n",
       "      <th>bulan</th>\n",
       "    </tr>\n",
       "  </thead>\n",
       "  <tbody>\n",
       "    <tr>\n",
       "      <th>0</th>\n",
       "      <td>E01001116</td>\n",
       "      <td>Croydon</td>\n",
       "      <td>Burglary</td>\n",
       "      <td>Burglary in Other Buildings</td>\n",
       "      <td>0</td>\n",
       "      <td>2016</td>\n",
       "      <td>11</td>\n",
       "    </tr>\n",
       "    <tr>\n",
       "      <th>1</th>\n",
       "      <td>E01001646</td>\n",
       "      <td>Greenwich</td>\n",
       "      <td>Violence Against the Person</td>\n",
       "      <td>Other violence</td>\n",
       "      <td>0</td>\n",
       "      <td>2016</td>\n",
       "      <td>11</td>\n",
       "    </tr>\n",
       "    <tr>\n",
       "      <th>2</th>\n",
       "      <td>E01000677</td>\n",
       "      <td>Bromley</td>\n",
       "      <td>Violence Against the Person</td>\n",
       "      <td>Other violence</td>\n",
       "      <td>0</td>\n",
       "      <td>2015</td>\n",
       "      <td>5</td>\n",
       "    </tr>\n",
       "    <tr>\n",
       "      <th>3</th>\n",
       "      <td>E01003774</td>\n",
       "      <td>Redbridge</td>\n",
       "      <td>Burglary</td>\n",
       "      <td>Burglary in Other Buildings</td>\n",
       "      <td>0</td>\n",
       "      <td>2016</td>\n",
       "      <td>3</td>\n",
       "    </tr>\n",
       "    <tr>\n",
       "      <th>4</th>\n",
       "      <td>E01004563</td>\n",
       "      <td>Wandsworth</td>\n",
       "      <td>Robbery</td>\n",
       "      <td>Personal Property</td>\n",
       "      <td>0</td>\n",
       "      <td>2008</td>\n",
       "      <td>6</td>\n",
       "    </tr>\n",
       "  </tbody>\n",
       "</table>\n",
       "</div>"
      ],
      "text/plain": [
       "   lsoa_code     wilayah                 level_tinggi  \\\n",
       "0  E01001116     Croydon                     Burglary   \n",
       "1  E01001646   Greenwich  Violence Against the Person   \n",
       "2  E01000677     Bromley  Violence Against the Person   \n",
       "3  E01003774   Redbridge                     Burglary   \n",
       "4  E01004563  Wandsworth                      Robbery   \n",
       "\n",
       "                  level_rendah  jumlah_kejahatan  tahun  bulan  \n",
       "0  Burglary in Other Buildings                 0   2016     11  \n",
       "1               Other violence                 0   2016     11  \n",
       "2               Other violence                 0   2015      5  \n",
       "3  Burglary in Other Buildings                 0   2016      3  \n",
       "4            Personal Property                 0   2008      6  "
      ]
     },
     "execution_count": 366,
     "metadata": {},
     "output_type": "execute_result"
    }
   ],
   "source": [
    "df_baru.head()"
   ]
  },
  {
   "attachments": {},
   "cell_type": "markdown",
   "metadata": {},
   "source": [
    "## Overall Analysis "
   ]
  },
  {
   "attachments": {},
   "cell_type": "markdown",
   "metadata": {},
   "source": [
    "Dari dataset yang kita punya, data tersebut merupakan rekapan data kejahatan yang terjadi di wilayah-wilayah LSOA selama tahun 2008 sampai dengan 2016. Dengan keseluruhan visualisasi data yang sudah dilakukan, menunjukkan bahwa kejahatan yang mendominasi pada kategori level tinggi adalah Theft and Handling. Pada kategori level rendah kejahatan yang mendominasi adalah kejahatan Other Theft. Wilayah dengan kejahatan terbanyak adalah Westminster. Kejahatan terbanyak sepanjang tahun 2008 - 2016 adalah kejahatan pada tahun 2012 yang mencapai 120.450 kejahatan. Adapun seluruh kejahatan yang pernah terjadi adalah sebanyak 1.047.935 kejahatan."
   ]
  }
 ],
 "metadata": {
  "kernelspec": {
   "display_name": "Python 3",
   "language": "python",
   "name": "python3"
  },
  "language_info": {
   "codemirror_mode": {
    "name": "ipython",
    "version": 3
   },
   "file_extension": ".py",
   "mimetype": "text/x-python",
   "name": "python",
   "nbconvert_exporter": "python",
   "pygments_lexer": "ipython3",
   "version": "3.10.5"
  },
  "orig_nbformat": 4
 },
 "nbformat": 4,
 "nbformat_minor": 2
}
