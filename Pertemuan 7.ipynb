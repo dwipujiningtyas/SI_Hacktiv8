{
 "cells": [
  {
   "cell_type": "markdown",
   "metadata": {},
   "source": [
    "## Visualization"
   ]
  },
  {
   "cell_type": "code",
   "execution_count": null,
   "metadata": {},
   "outputs": [],
   "source": []
  },
  {
   "cell_type": "code",
   "execution_count": 1,
   "metadata": {},
   "outputs": [
    {
     "ename": "NameError",
     "evalue": "name 'canada_immigration' is not defined",
     "output_type": "error",
     "traceback": [
      "\u001b[0;31m---------------------------------------------------------------------------\u001b[0m",
      "\u001b[0;31mNameError\u001b[0m                                 Traceback (most recent call last)",
      "\u001b[1;32m/Users/tyas/Documents/KULIAH/KAMPUS MERDEKA/sesi_python/sesi7.ipynb Cell 3\u001b[0m in \u001b[0;36m<cell line: 1>\u001b[0;34m()\u001b[0m\n\u001b[0;32m----> <a href='vscode-notebook-cell:/Users/tyas/Documents/KULIAH/KAMPUS%20MERDEKA/sesi_python/sesi7.ipynb#X13sZmlsZQ%3D%3D?line=0'>1</a>\u001b[0m ax \u001b[39m=\u001b[39m canada_immigration[\u001b[39m2013\u001b[39m]\u001b[39m.\u001b[39mplot(kind\u001b[39m=\u001b[39m\u001b[39m'\u001b[39m\u001b[39mhist\u001b[39m\u001b[39m'\u001b[39m)\n",
      "\u001b[0;31mNameError\u001b[0m: name 'canada_immigration' is not defined"
     ]
    }
   ],
   "source": [
    "ax = canada_immigration[2013].plot(kind='hist')\n",
    "\n",
    "ax.set_title(\"Histogram of Immigration from 195 countries in 2013\")\n",
    "ax.set_xlabel(\"Number of Immigrants\")"
   ]
  },
  {
   "cell_type": "code",
   "execution_count": null,
   "metadata": {},
   "outputs": [],
   "source": [
    "canada_immigration.loc[[\"Denmark\", \"Norway\", \"Sweden\"], years].plot(kind='hist')"
   ]
  },
  {
   "cell_type": "code",
   "execution_count": null,
   "metadata": {},
   "outputs": [],
   "source": [
    "scand_data = canada_immigration.loc[[\"Denmark\", \"Norway\", \"Sweden\"], years].transpose()\n",
    "\n",
    "ax = scand_data.plot(\n",
    "    kind='hist',\n",
    "    alpha=0.2\n",
    "    bins=15\n",
    ")\n",
    "ax.set_title(\"Histogram of Immigrants from Denmark, Norway and Sweden\")"
   ]
  },
  {
   "cell_type": "code",
   "execution_count": null,
   "metadata": {},
   "outputs": [],
   "source": [
    "scand_data = canada_immigration.loc[[\"Denmark\", \"Norway\", \"Sweden\"], years].transpose()\n",
    "\n",
    "ax = scand_data.plot(\n",
    "    kind='hist',\n",
    "    alpha=0.2\n",
    "    bins=15\n",
    "    stacked=True\n",
    ")\n",
    "ax.set_title(\"Histogram of Immigrants from Denmark, Norway and Sweden\")"
   ]
  },
  {
   "cell_type": "markdown",
   "metadata": {},
   "source": [
    "## Barplot"
   ]
  },
  {
   "cell_type": "code",
   "execution_count": null,
   "metadata": {},
   "outputs": [],
   "source": []
  },
  {
   "cell_type": "code",
   "execution_count": null,
   "metadata": {},
   "outputs": [],
   "source": [
    "ax = indonesia_data.plot(\n",
    "    kind = 'bar'\n",
    "    figsize=(10,6)\n",
    ")\n",
    "\n",
    "ax.set_title(\"Indonesian immigrants to Canda from 1980 to 2013\")"
   ]
  },
  {
   "cell_type": "code",
   "execution_count": null,
   "metadata": {},
   "outputs": [],
   "source": [
    "ax = indonesia_data.plot(\n",
    "    kind = 'barh'\n",
    "    figsize=(10,6)\n",
    ")\n",
    "\n",
    "ax.set_title(\"Indonesian immigrants to Canda from 1980 to 2013\")"
   ]
  },
  {
   "cell_type": "code",
   "execution_count": null,
   "metadata": {},
   "outputs": [],
   "source": []
  },
  {
   "cell_type": "code",
   "execution_count": null,
   "metadata": {},
   "outputs": [],
   "source": [
    "top_10 = canada_immigration['Total'].head(10)\n",
    "\n",
    "ax = indonesia_data.plot(\n",
    "    kind = 'barh'\n",
    "    figsize=(10,6)\n",
    ")\n",
    "\n",
    "ax.set_title(\"Indonesian immigrants to Canda from 1980 to 2013\")"
   ]
  },
  {
   "cell_type": "code",
   "execution_count": null,
   "metadata": {},
   "outputs": [],
   "source": [
    "top_10 = canada_immigration.sort_values[by='Total'].head(10)\n",
    "\n",
    "ax = top_10.plot(\n",
    "    kind = 'barh'\n",
    "    figsize=(10,6)\n",
    ")\n",
    "\n",
    "#ax.set_title(\"Indonesian immigrants to Canda from 1980 to 2013\")"
   ]
  },
  {
   "cell_type": "code",
   "execution_count": null,
   "metadata": {},
   "outputs": [],
   "source": [
    "top_10 = canada_immigration('Total', ascending=True, inplace=True)\n",
    "\n",
    "ax = top_10.plot(\n",
    "    kind = 'barh'\n",
    "    figsize=(10,6),\n",
    "    color='steelblue'\n",
    ")\n",
    "\n",
    "ax.set_title(\"Top 10 Countries Contribution to Immigrants in Canada between 1980 to 2013\")"
   ]
  },
  {
   "cell_type": "markdown",
   "metadata": {},
   "source": [
    "## Pie Chart"
   ]
  },
  {
   "cell_type": "code",
   "execution_count": null,
   "metadata": {},
   "outputs": [],
   "source": [
    "continent_data = canada_immigration.groupby(\"Continent\", axis=0).sum()"
   ]
  },
  {
   "cell_type": "code",
   "execution_count": null,
   "metadata": {},
   "outputs": [],
   "source": [
    "continent_data"
   ]
  },
  {
   "cell_type": "code",
   "execution_count": null,
   "metadata": {},
   "outputs": [],
   "source": [
    "continent_data['Total'].plot(\n",
    "    kind='pie',\n",
    "    autopct='%1.1f%%',\n",
    "    starting=90,\n",
    "    shadow=True\n",
    ")"
   ]
  },
  {
   "cell_type": "code",
   "execution_count": null,
   "metadata": {},
   "outputs": [],
   "source": [
    "color_list = [\"gold\",\"yellowgreen\", \"lightcoral\", \"lightskyblue\", \"lightgreen\", \"pink\"]\n",
    "\n",
    "continent_data['Total'].plot(\n",
    "    kind='pie',\n",
    "    figsize=(15,6),\n",
    "    autopct='%1.1f%%',\n",
    "    starting=90,\n",
    "    shadow=True,\n",
    "    labels=None,\n",
    "    colors=color_list,\n",
    "    pctdistance=1.12,\n",
    "    explode = [0.1,0,0,.1,.1]\n",
    ")\n",
    "\n",
    "plt.title(\"Immigration to Canada by Continent\", y=1.12)\n",
    "plt.axis('equal')\n",
    "plt.legend(labels=continent_data.index, loc='upper left')"
   ]
  },
  {
   "cell_type": "markdown",
   "metadata": {},
   "source": [
    "## Box Plots"
   ]
  },
  {
   "cell_type": "markdown",
   "metadata": {},
   "source": [
    "Untuk mengindentifikasi outlier"
   ]
  },
  {
   "cell_type": "code",
   "execution_count": null,
   "metadata": {},
   "outputs": [],
   "source": [
    "Q1\n",
    "Q2\n",
    "Q3\n",
    "\n",
    "IQR = Q3- Q1\n",
    "Max = Q3 + (1.5 * IQR)\n",
    "Min = Q1 - (1.5 * IQR)"
   ]
  },
  {
   "cell_type": "code",
   "execution_count": null,
   "metadata": {},
   "outputs": [],
   "source": [
    "indonesia_data"
   ]
  },
  {
   "cell_type": "code",
   "execution_count": null,
   "metadata": {},
   "outputs": [],
   "source": [
    "indonesia_data.plot(kind='box', figsize=(8,6))"
   ]
  },
  {
   "cell_type": "code",
   "execution_count": null,
   "metadata": {},
   "outputs": [],
   "source": [
    "indonesia_data.describe()"
   ]
  },
  {
   "cell_type": "code",
   "execution_count": null,
   "metadata": {},
   "outputs": [],
   "source": [
    "indonesia_data.astype(int).describe()"
   ]
  },
  {
   "cell_type": "code",
   "execution_count": 1,
   "metadata": {},
   "outputs": [],
   "source": [
    "iqr = 545.250000 - 207.000000\n",
    "\n",
    "max_box = 545.250000 + (1.5*iqr)\n",
    "\n",
    "max_box"
   ]
  },
  {
   "cell_type": "code",
   "execution_count": null,
   "metadata": {},
   "outputs": [],
   "source": [
    "china_india = canada_immigration.loc[[\"China\", \"India\"], years].transpose()"
   ]
  },
  {
   "cell_type": "markdown",
   "metadata": {},
   "source": [
    "china_india.describe()"
   ]
  },
  {
   "cell_type": "code",
   "execution_count": null,
   "metadata": {},
   "outputs": [],
   "source": [
    "china_india.plot(kind='box', figsize=(8,6), vert=False)"
   ]
  },
  {
   "cell_type": "code",
   "execution_count": null,
   "metadata": {},
   "outputs": [],
   "source": []
  },
  {
   "cell_type": "code",
   "execution_count": null,
   "metadata": {},
   "outputs": [],
   "source": []
  },
  {
   "cell_type": "code",
   "execution_count": null,
   "metadata": {},
   "outputs": [],
   "source": []
  },
  {
   "cell_type": "code",
   "execution_count": null,
   "metadata": {},
   "outputs": [],
   "source": []
  },
  {
   "cell_type": "markdown",
   "metadata": {},
   "source": []
  },
  {
   "cell_type": "code",
   "execution_count": null,
   "metadata": {},
   "outputs": [],
   "source": []
  },
  {
   "cell_type": "code",
   "execution_count": null,
   "metadata": {},
   "outputs": [],
   "source": []
  }
 ],
 "metadata": {
  "kernelspec": {
   "display_name": "Python 3.10.5 64-bit",
   "language": "python",
   "name": "python3"
  },
  "language_info": {
   "codemirror_mode": {
    "name": "ipython",
    "version": 3
   },
   "file_extension": ".py",
   "mimetype": "text/x-python",
   "name": "python",
   "nbconvert_exporter": "python",
   "pygments_lexer": "ipython3",
   "version": "3.10.5"
  },
  "orig_nbformat": 4,
  "vscode": {
   "interpreter": {
    "hash": "aee8b7b246df8f9039afb4144a1f6fd8d2ca17a180786b69acc140d282b71a49"
   }
  }
 },
 "nbformat": 4,
 "nbformat_minor": 2
}
